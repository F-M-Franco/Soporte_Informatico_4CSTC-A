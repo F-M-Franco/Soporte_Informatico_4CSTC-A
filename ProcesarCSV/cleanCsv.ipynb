import csv

CSV_PATH = "age_std_suicide_rates_1990-2022.csv"

REGION_CODE_ROW = "ï»¿RegionCode"
REGION_ROW = "RegionName"
COUNTRY_CODE_ROW = "CountryCode"
COUNTRY_ROW = "CountryName"
YEAR_ROW = "Year"
SEX_ROW = "Sex"
SUICIDE_COUNT_ROW = "SuicideCount"
CAUSE_SPECIFIC_ROW = "CauseSpecificDeathPercentage"
STD_RATE_ROW = "StdDeathRate"
DEATH_RATE_ROW = "DeathRatePer100K"
POPULATION_ROW = "Population"
GDP_ROW = "GDP"
GDP_PER_CAPITA_ROW = "GDPPerCapita"
GNI_ROW = "GNI"
GNI_PER_CAPITA_ROW = "GNIPerCapita" 
INFLATION_RATE_ROW = "InflationRate"
EMPLOYMENT_ROW = "EmploymentPopulationRatio"

UNKOWN = "Unkown"
def handleEmptyStr(string):
    # string = str
    # return type = str
    
    if not string.strip():
        return UNKOWN
    
    return True

def clampDecimalStr(decimal_str):
    # decimal_str = str
    # return type = str

        if handleEmptyStr(decimal_str) == UNKOWN:
            return UNKOWN
        
        period_index = decimal_str.find(".")

        if period_index != -1:
            return decimal_str[:period_index + 3]
        
        return decimal_str

def decimalStrToSciNot(decimal_str):
    # decimal_str = str
    # return type = str
    
    if handleEmptyStr(decimal_str) == UNKOWN:
            return UNKOWN
        
    if 'e' in decimal_str.lower():
        mantissa, exponent = decimal_str.lower().split('e')
        clamped_mantissa = "{:.2f}".format(float(mantissa))
        
        return f"{clamped_mantissa}e{exponent}"   
    
    number = float(decimal_str)

    return "{:.2e}".format(number)

def capitalizeString(string):
    # string = str
    # return type = str
    
    words = string.split()

    fixed_words = [word.capitalize() for word in words]

    return ' '.join(fixed_words)
   
def processRow(row):
    # row = Dictionary
    # return tpye = Dictionary
    
    #row[YEAR_ROW] Unmodified
    #row[SEX_ROW] Unmodified
    #row[SUICIDE_COUNT_ROW] Unmodified
    #row[POPULATION_ROW] Unmodified
    row[REGION_CODE_ROW] = row[REGION_CODE_ROW].upper()
    row[REGION_ROW] = capitalizeString(row[REGION_ROW])
    row[COUNTRY_CODE_ROW] = row[COUNTRY_CODE_ROW].upper()
    row[COUNTRY_ROW] = capitalizeString(row[COUNTRY_ROW])
    row[CAUSE_SPECIFIC_ROW] = clampDecimalStr(row[CAUSE_SPECIFIC_ROW])
    row[STD_RATE_ROW] = clampDecimalStr(row[STD_RATE_ROW]) 
    row[DEATH_RATE_ROW] = clampDecimalStr(row[DEATH_RATE_ROW]) 
    row[GDP_PER_CAPITA_ROW] = clampDecimalStr(row[GDP_PER_CAPITA_ROW]) 
    row[GDP_ROW] = decimalStrToSciNot(row[GDP_ROW])
    row[GNI_PER_CAPITA_ROW] = clampDecimalStr(row[GNI_PER_CAPITA_ROW])  
    row[GNI_ROW] = decimalStrToSciNot(row[GNI_ROW])
    row[INFLATION_RATE_ROW] = clampDecimalStr(row[INFLATION_RATE_ROW])
    row[EMPLOYMENT_ROW] = clampDecimalStr(row[EMPLOYMENT_ROW])
    
    return row
    
def main():
    with open(CSV_PATH, 'r') as csvfile:
        csvreader = csv.DictReader(csvfile)
        
        data = list(csvreader)
    
    processed_data = [processRow(row) for row in data]
    with open('processed.csv', 'w', newline='') as csvfile:
        fieldnames = processed_data[0].keys() if processed_data else []
        
        csv_dictwriter = csv.DictWriter(csvfile, fieldnames=fieldnames)
        
        csv_dictwriter.writeheader()
        
        csv_dictwriter.writerows(processed_data)
                     
main()




