import pandas as pd

CSV_PATH = "age_std_suicide_rates_1990-2022.csv"

def handle_empty_str(string):
    if not string.strip():
        return "Unknown"
    return string

def clamp_decimal_str(decimal_str):
    if handle_empty_str(decimal_str) == "Unknown":
        return "Unknown"
    try:
        number = float(decimal_str)
        return f"{number:.2e}"
    except ValueError:
        return "Unknown"

def capitalize_string(string):
    return string.capitalize()

def process_row(row):
    row['ï»¿RegionCode'] = row['ï»¿RegionCode'].upper()
    row['RegionName'] = capitalize_string(row['RegionName'])
    row['CountryCode'] = row['CountryCode'].upper()
    row['CountryName'] = capitalize_string(row['CountryName'])
    row['CauseSpecificDeathPercentage'] = clamp_decimal_str(row['CauseSpecificDeathPercentage'])
    row['StdDeathRate'] = clamp_decimal_str(row['StdDeathRate'])
    row['DeathRatePer100K'] = clamp_decimal_str(row['DeathRatePer100K'])
    row['GDPPerCapita'] = clamp_decimal_str(row['GDPPerCapita'])
    row['GDP'] = clamp_decimal_str(row['GDP'])
    row['GNIPerCapita'] = clamp_decimal_str(row['GNIPerCapita'])
    row['GNI'] = clamp_decimal_str(row['GNI'])
    row['InflationRate'] = clamp_decimal_str(row['InflationRate'])
    row['EmploymentPopulationRatio'] = clamp_decimal_str(row['EmploymentPopulationRatio'])
    return row
main()




